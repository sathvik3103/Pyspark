{
  "nbformat": 4,
  "nbformat_minor": 0,
  "metadata": {
    "colab": {
      "provenance": [],
      "mount_file_id": "1WBL3SJAgohBj93C4WSwwKuU6bg6yQe5Y",
      "authorship_tag": "ABX9TyMrE2BFFf091mI5RTj7Tz5G",
      "include_colab_link": true
    },
    "kernelspec": {
      "name": "python3",
      "display_name": "Python 3"
    },
    "language_info": {
      "name": "python"
    }
  },
  "cells": [
    {
      "cell_type": "markdown",
      "metadata": {
        "id": "view-in-github",
        "colab_type": "text"
      },
      "source": [
        "<a href=\"https://colab.research.google.com/github/sathvik3103/Pyspark/blob/main/Basics_of_Pyspark_MLib.ipynb\" target=\"_parent\"><img src=\"https://colab.research.google.com/assets/colab-badge.svg\" alt=\"Open In Colab\"/></a>"
      ]
    },
    {
      "cell_type": "code",
      "execution_count": null,
      "metadata": {
        "colab": {
          "base_uri": "https://localhost:8080/"
        },
        "id": "uAkF4pXYw2Fy",
        "outputId": "83dc14ed-139e-4e5d-dffa-5b8e7bce062e"
      },
      "outputs": [
        {
          "output_type": "stream",
          "name": "stdout",
          "text": [
            "Requirement already satisfied: pyspark in /usr/local/lib/python3.10/dist-packages (3.5.3)\n",
            "Requirement already satisfied: py4j==0.10.9.7 in /usr/local/lib/python3.10/dist-packages (from pyspark) (0.10.9.7)\n"
          ]
        }
      ],
      "source": [
        "! pip install pyspark\n",
        "import pyspark as pk\n",
        "from pyspark.sql import SparkSession\n",
        "spark=SparkSession.builder.appName('Practice').getOrCreate()"
      ]
    },
    {
      "cell_type": "code",
      "source": [
        "spark"
      ],
      "metadata": {
        "colab": {
          "base_uri": "https://localhost:8080/",
          "height": 219
        },
        "id": "PptK4hEhx4WK",
        "outputId": "8a1017fa-a70f-4937-a4f9-121f3d1e4cb1"
      },
      "execution_count": null,
      "outputs": [
        {
          "output_type": "execute_result",
          "data": {
            "text/plain": [
              "<pyspark.sql.session.SparkSession at 0x781e1c395ab0>"
            ],
            "text/html": [
              "\n",
              "            <div>\n",
              "                <p><b>SparkSession - in-memory</b></p>\n",
              "                \n",
              "        <div>\n",
              "            <p><b>SparkContext</b></p>\n",
              "\n",
              "            <p><a href=\"http://a9c09a7bd614:4040\">Spark UI</a></p>\n",
              "\n",
              "            <dl>\n",
              "              <dt>Version</dt>\n",
              "                <dd><code>v3.5.3</code></dd>\n",
              "              <dt>Master</dt>\n",
              "                <dd><code>local[*]</code></dd>\n",
              "              <dt>AppName</dt>\n",
              "                <dd><code>Practice</code></dd>\n",
              "            </dl>\n",
              "        </div>\n",
              "        \n",
              "            </div>\n",
              "        "
            ]
          },
          "metadata": {},
          "execution_count": 2
        }
      ]
    },
    {
      "cell_type": "code",
      "source": [
        "df_pyspark=spark.read.csv('/Tailwind Traders Sales.csv',header=True,inferSchema=True)\n",
        "df_pyspark.show()"
      ],
      "metadata": {
        "colab": {
          "base_uri": "https://localhost:8080/"
        },
        "id": "PulpDNB5x5X_",
        "outputId": "f0702f85-0e4b-44a0-c756-c9a49f6fe93e"
      },
      "execution_count": null,
      "outputs": [
        {
          "output_type": "stream",
          "name": "stdout",
          "text": [
            "+---------+-----------------+--------------------+--------------------+-------------------+---------------+------------------+---+-----+------+----------------+------------+--------+--------+--------+-------+--------+-----------+-----------+-----------+--------------------+---------+----------+------------------+---------------+\n",
            "| OrderID | Customer Name   |        Product Name| Product Description|Gross Product Price|Tax Per Product|Quantity Purchased| GR|   TT|    NR|Product Category| SKU Number | Weight | Color  |  Size  | Rating| Stock  | Country ID| Sales Rep | CustomerID|     Address        | Zip Code| Phone    | Email            | Loyalty Points|\n",
            "+---------+-----------------+--------------------+--------------------+-------------------+---------------+------------------+---+-----+------+----------------+------------+--------+--------+--------+-------+--------+-----------+-----------+-----------+--------------------+---------+----------+------------------+---------------+\n",
            "|     1024| Jane Smith      |    UltraGrip Hammer|A sturdy hammer w...|                 60|            8.4|                 2|120| 16.8| 103.2|           Tools| TWH-024    |   0,1  | Red    | Small  |    4.5|     320|          1| Alice     |  C024     |    121 Blvd        |    46575|   1112222| jsmith@mail.com  |              7|\n",
            "|     1025| Darren White    |   Luminous Bulb 60W|Energy-saving 60W...|                 35|           2.45|                 3|105| 7.35| 97.65|        Lighting| TWF-025    |   0,2  | Blue   | Medium |    4.8|     150|          5| Bob       |  C025     |    45 Royal Ln     | B2M 3N5 |   2223333| dwhite@mail.com  |             25|\n",
            "|     1026| Lucy Roberts    |       Oakwood Shelf|A durable oakwood...|                250|           17.5|                 1|250| 17.5| 232.5|       Furniture| TWK-026    |   2,5  | Green  | Large  |    5.0|      85|          1| Alice     |  C026     |    23 Paris St     |    75008|   3334444| lucyR@mail.com   |             30|\n",
            "|     1027| Mark Lewis      |      ProTile Cutter|High precision ti...|                 15|           1.05|                 5| 75| 5.25| 69.75|           Tools| TWF-027    |   8,0  | Red    | XL     |    4.4|     190|          2| Charlie   |  C027     |    67 Berlin Rd    |    10178|   4445555| markL@mail.com   |             20|\n",
            "|     1028| Olivia Graham   |    Garden Glove Set|Comfortable glove...|                 55|           3.85|                 4|220| 15.4| 204.6|       Gardening| TWT-028    |   1,2  | Black  | Small  |    4.9|     310|          1| Alice     |  C028     |    99 Madrid Ln    |    28014|   5556666| oliviaG@mail.com |             10|\n",
            "|     1029| Jack Thompson   | Steel Nails (1inch)|Rust-resistant st...|                 75|           5.25|                 2|150| 10.5| 139.5|        Hardware| TWH-029    |   1,5  | White  | Medium |    4.2|     210|          2| David     |  C029     |    45 Rome Blvd    |      185|   6667777| jackT@mail.com   |             15|\n",
            "|     1030| Mia Hughes      | Luxury Paint (Blue)|Premium quality b...|                 50|           14.7|                 1| 50| 14.7|  35.3|   Paint & Decor| TWS-030    |   0,8  | Red    | Large  |    4.7|     255|          3| Charlie   |  C030     |    11 Delhi Ave    |   110001|   7778888| miaH@mail.com    |              5|\n",
            "|     1031| Aaron Walker    |Kitchen Sink (Steel)|Stainless steel k...|                 90|            6.3|                 3|270| 18.9| 251.1|        Plumbing| TWF-031    |   0,1  | Blue   | Small  |    4.6|     265|          2| Alice     |  C031     |    23 Tokyo St     | 100-0004|   8889999| aaronW@mail.com  |             20|\n",
            "|     1032| Lily Peterson   |     Power Drill Set|A complete drill ...|                180|           12.6|                 2|360| 25.2| 334.8|           Tools| TWG-032    |   0,5  | Green  | XL     |    4.0|     330|          1| Bob       |  C032     |    33 Sydney Rd    |     2000|   9990000| lilyP@mail.com   |              3|\n",
            "|     1033| Ben Foster      |    Floral Wallpaper|Beautiful floral ...|                  3|            1.4|                 6| 18|  8.4|   9.6|   Paint & Decor| TWT-033    |   0,2  | Yellow | Small  |    4.8|     500|          1| David     |  C033     |    56 Ontario St   | K1A 0A6 |   1497911| benF@mail.com    |             12|\n",
            "|     1034| Owen Gray       |     Brass Door Knob|Elegant brass doo...|                300|           21.0|                 1|300| 21.0| 279.0|        Hardware| TWS-034    |   0,05 | Black  | Medium |    4.7|     220|          2| Alice     |  C034     |  42 Sun Blvd       |    67890|   1122334| owenG@mail.com   |             18|\n",
            "|     1035| Amelia Carter   |   LED Garden Lights|Set of 6 LED ligh...|                 50|            3.5|                 4|200| 14.0| 186.0|        Lighting| TWH-035    |   2,0  | White  | Large  |    4.9|     150|          4| Charlie   |  C035     |  65 Nordic Ave     |    12345|   2233445| ameliaC@mail.com |             25|\n",
            "|     1036| Liam Clark      |         Compost Bin|Durable compost b...|                 60|            4.2|                 5|300| 21.0| 279.0|       Gardening| TWK-036    |   4,0  | Yellow | XL     |    5.0|      90|          1| Bob       |  C036     |  89 Coffee St      |    34567|   3344556| liamC@mail.com   |             45|\n",
            "|     1037| Sophia Turner   |  Ceramic Vase (Red)|Red ceramic vase ...|                 40|            2.8|                 3|120|  8.4| 111.6|      Home Decor| TWT-037    |   0,05 | Red    | Medium |    4.8|     320|          5| David     |  C037     |  33 Health Blvd    |    45678|   4455667| sophiaT@mail.com |             12|\n",
            "|     1038| Jacob Moore     |     Patio Chair Set|Set of 2 chairs f...|                 45|           3.15|                 4|180| 12.6| 167.4|       Furniture| TWO-038    |   6,0  | Blue   | XL     |    4.6|     185|          5| Alice     |  C038     |  99 Grill Ave      |    56789|   5566778| jacobM@mail.com  |             35|\n",
            "|     1039| Ava Lee         |  Electric Lawnmower|Efficient electri...|                 80|            5.6|                 2|160| 11.2| 148.8|       Gardening| TWB-039    |   0,3  | Green  | Small  |    4.5|     215|          1| Charlie   |  C039     |  12 Aroma Blvd     |    67890|   6677889| avaL@mail.com    |             22|\n",
            "|     1040| Ethan Wilson    |      Kitchen Faucet|Modern kitchen fa...|                200|           14.0|                 1|200| 14.0| 186.0|        Plumbing| TWT-040    |   0,2  | Red    | Small  |    4.7|     240|          5| David     |  C040     |  44 Music Rd       |    78901|   7788990| ethanW@mail.com  |             20|\n",
            "|     1041| Charlotte Adams | Designer Wall Clock|Stylish wall cloc...|                 65|           4.55|                 3|195|13.65|181.35|      Home Decor| TWF-041    |   1,0  | Blue   | Medium |    4.8|     165|          5| Bob       |  C041     |  55 Fashion Ave    |    89012|   8899001| charA@mail.com   |             28|\n",
            "|     1042| Lucas Taylor    |  Granite Countertop|Durable granite c...|                110|            7.7|                 2|220| 15.4| 204.6|       Furniture| TWB-042    |   0,3  | Green  | Large  |    4.9|     300|          1| David     |  C042     |  66 Shine St       |    90123|   9900112| lucasT@mail.com  |             10|\n",
            "|     1043| Mia Roberts     |       Teakwood Desk|Spacious teakwood...|                 95|           6.65|                 1| 95| 6.65| 88.35|       Furniture| TWH-043    |   1,5  | Red    | XL     |    4.4|     270|          2| Alice     |  C043     | 77 Time Rd      ...|    12378|  10121314| miaR@mail.com    |             15|\n",
            "+---------+-----------------+--------------------+--------------------+-------------------+---------------+------------------+---+-----+------+----------------+------------+--------+--------+--------+-------+--------+-----------+-----------+-----------+--------------------+---------+----------+------------------+---------------+\n",
            "only showing top 20 rows\n",
            "\n"
          ]
        }
      ]
    },
    {
      "cell_type": "code",
      "source": [
        "from pyspark.ml.feature import VectorAssembler\n",
        "featureassembler = VectorAssembler(inputCols=[\" Country ID\", \"Gross Product Price\"],outputCol=\"Independent Features\")\n",
        "output=featureassembler.transform(df_pyspark)\n",
        "output.show()"
      ],
      "metadata": {
        "colab": {
          "base_uri": "https://localhost:8080/"
        },
        "id": "SbfN7vWYx6Ru",
        "outputId": "e9f991a6-d38d-4f1d-db94-ea8fafd2e5e5"
      },
      "execution_count": null,
      "outputs": [
        {
          "output_type": "stream",
          "name": "stdout",
          "text": [
            "+---------+-----------------+--------------------+--------------------+-------------------+---------------+------------------+---+-----+------+----------------+------------+--------+--------+--------+-------+--------+-----------+-----------+-----------+--------------------+---------+----------+------------------+---------------+--------------------+\n",
            "| OrderID | Customer Name   |        Product Name| Product Description|Gross Product Price|Tax Per Product|Quantity Purchased| GR|   TT|    NR|Product Category| SKU Number | Weight | Color  |  Size  | Rating| Stock  | Country ID| Sales Rep | CustomerID|     Address        | Zip Code| Phone    | Email            | Loyalty Points|Independent Features|\n",
            "+---------+-----------------+--------------------+--------------------+-------------------+---------------+------------------+---+-----+------+----------------+------------+--------+--------+--------+-------+--------+-----------+-----------+-----------+--------------------+---------+----------+------------------+---------------+--------------------+\n",
            "|     1024| Jane Smith      |    UltraGrip Hammer|A sturdy hammer w...|                 60|            8.4|                 2|120| 16.8| 103.2|           Tools| TWH-024    |   0,1  | Red    | Small  |    4.5|     320|          1| Alice     |  C024     |    121 Blvd        |    46575|   1112222| jsmith@mail.com  |              7|          [1.0,60.0]|\n",
            "|     1025| Darren White    |   Luminous Bulb 60W|Energy-saving 60W...|                 35|           2.45|                 3|105| 7.35| 97.65|        Lighting| TWF-025    |   0,2  | Blue   | Medium |    4.8|     150|          5| Bob       |  C025     |    45 Royal Ln     | B2M 3N5 |   2223333| dwhite@mail.com  |             25|          [5.0,35.0]|\n",
            "|     1026| Lucy Roberts    |       Oakwood Shelf|A durable oakwood...|                250|           17.5|                 1|250| 17.5| 232.5|       Furniture| TWK-026    |   2,5  | Green  | Large  |    5.0|      85|          1| Alice     |  C026     |    23 Paris St     |    75008|   3334444| lucyR@mail.com   |             30|         [1.0,250.0]|\n",
            "|     1027| Mark Lewis      |      ProTile Cutter|High precision ti...|                 15|           1.05|                 5| 75| 5.25| 69.75|           Tools| TWF-027    |   8,0  | Red    | XL     |    4.4|     190|          2| Charlie   |  C027     |    67 Berlin Rd    |    10178|   4445555| markL@mail.com   |             20|          [2.0,15.0]|\n",
            "|     1028| Olivia Graham   |    Garden Glove Set|Comfortable glove...|                 55|           3.85|                 4|220| 15.4| 204.6|       Gardening| TWT-028    |   1,2  | Black  | Small  |    4.9|     310|          1| Alice     |  C028     |    99 Madrid Ln    |    28014|   5556666| oliviaG@mail.com |             10|          [1.0,55.0]|\n",
            "|     1029| Jack Thompson   | Steel Nails (1inch)|Rust-resistant st...|                 75|           5.25|                 2|150| 10.5| 139.5|        Hardware| TWH-029    |   1,5  | White  | Medium |    4.2|     210|          2| David     |  C029     |    45 Rome Blvd    |      185|   6667777| jackT@mail.com   |             15|          [2.0,75.0]|\n",
            "|     1030| Mia Hughes      | Luxury Paint (Blue)|Premium quality b...|                 50|           14.7|                 1| 50| 14.7|  35.3|   Paint & Decor| TWS-030    |   0,8  | Red    | Large  |    4.7|     255|          3| Charlie   |  C030     |    11 Delhi Ave    |   110001|   7778888| miaH@mail.com    |              5|          [3.0,50.0]|\n",
            "|     1031| Aaron Walker    |Kitchen Sink (Steel)|Stainless steel k...|                 90|            6.3|                 3|270| 18.9| 251.1|        Plumbing| TWF-031    |   0,1  | Blue   | Small  |    4.6|     265|          2| Alice     |  C031     |    23 Tokyo St     | 100-0004|   8889999| aaronW@mail.com  |             20|          [2.0,90.0]|\n",
            "|     1032| Lily Peterson   |     Power Drill Set|A complete drill ...|                180|           12.6|                 2|360| 25.2| 334.8|           Tools| TWG-032    |   0,5  | Green  | XL     |    4.0|     330|          1| Bob       |  C032     |    33 Sydney Rd    |     2000|   9990000| lilyP@mail.com   |              3|         [1.0,180.0]|\n",
            "|     1033| Ben Foster      |    Floral Wallpaper|Beautiful floral ...|                  3|            1.4|                 6| 18|  8.4|   9.6|   Paint & Decor| TWT-033    |   0,2  | Yellow | Small  |    4.8|     500|          1| David     |  C033     |    56 Ontario St   | K1A 0A6 |   1497911| benF@mail.com    |             12|           [1.0,3.0]|\n",
            "|     1034| Owen Gray       |     Brass Door Knob|Elegant brass doo...|                300|           21.0|                 1|300| 21.0| 279.0|        Hardware| TWS-034    |   0,05 | Black  | Medium |    4.7|     220|          2| Alice     |  C034     |  42 Sun Blvd       |    67890|   1122334| owenG@mail.com   |             18|         [2.0,300.0]|\n",
            "|     1035| Amelia Carter   |   LED Garden Lights|Set of 6 LED ligh...|                 50|            3.5|                 4|200| 14.0| 186.0|        Lighting| TWH-035    |   2,0  | White  | Large  |    4.9|     150|          4| Charlie   |  C035     |  65 Nordic Ave     |    12345|   2233445| ameliaC@mail.com |             25|          [4.0,50.0]|\n",
            "|     1036| Liam Clark      |         Compost Bin|Durable compost b...|                 60|            4.2|                 5|300| 21.0| 279.0|       Gardening| TWK-036    |   4,0  | Yellow | XL     |    5.0|      90|          1| Bob       |  C036     |  89 Coffee St      |    34567|   3344556| liamC@mail.com   |             45|          [1.0,60.0]|\n",
            "|     1037| Sophia Turner   |  Ceramic Vase (Red)|Red ceramic vase ...|                 40|            2.8|                 3|120|  8.4| 111.6|      Home Decor| TWT-037    |   0,05 | Red    | Medium |    4.8|     320|          5| David     |  C037     |  33 Health Blvd    |    45678|   4455667| sophiaT@mail.com |             12|          [5.0,40.0]|\n",
            "|     1038| Jacob Moore     |     Patio Chair Set|Set of 2 chairs f...|                 45|           3.15|                 4|180| 12.6| 167.4|       Furniture| TWO-038    |   6,0  | Blue   | XL     |    4.6|     185|          5| Alice     |  C038     |  99 Grill Ave      |    56789|   5566778| jacobM@mail.com  |             35|          [5.0,45.0]|\n",
            "|     1039| Ava Lee         |  Electric Lawnmower|Efficient electri...|                 80|            5.6|                 2|160| 11.2| 148.8|       Gardening| TWB-039    |   0,3  | Green  | Small  |    4.5|     215|          1| Charlie   |  C039     |  12 Aroma Blvd     |    67890|   6677889| avaL@mail.com    |             22|          [1.0,80.0]|\n",
            "|     1040| Ethan Wilson    |      Kitchen Faucet|Modern kitchen fa...|                200|           14.0|                 1|200| 14.0| 186.0|        Plumbing| TWT-040    |   0,2  | Red    | Small  |    4.7|     240|          5| David     |  C040     |  44 Music Rd       |    78901|   7788990| ethanW@mail.com  |             20|         [5.0,200.0]|\n",
            "|     1041| Charlotte Adams | Designer Wall Clock|Stylish wall cloc...|                 65|           4.55|                 3|195|13.65|181.35|      Home Decor| TWF-041    |   1,0  | Blue   | Medium |    4.8|     165|          5| Bob       |  C041     |  55 Fashion Ave    |    89012|   8899001| charA@mail.com   |             28|          [5.0,65.0]|\n",
            "|     1042| Lucas Taylor    |  Granite Countertop|Durable granite c...|                110|            7.7|                 2|220| 15.4| 204.6|       Furniture| TWB-042    |   0,3  | Green  | Large  |    4.9|     300|          1| David     |  C042     |  66 Shine St       |    90123|   9900112| lucasT@mail.com  |             10|         [1.0,110.0]|\n",
            "|     1043| Mia Roberts     |       Teakwood Desk|Spacious teakwood...|                 95|           6.65|                 1| 95| 6.65| 88.35|       Furniture| TWH-043    |   1,5  | Red    | XL     |    4.4|     270|          2| Alice     |  C043     | 77 Time Rd      ...|    12378|  10121314| miaR@mail.com    |             15|          [2.0,95.0]|\n",
            "+---------+-----------------+--------------------+--------------------+-------------------+---------------+------------------+---+-----+------+----------------+------------+--------+--------+--------+-------+--------+-----------+-----------+-----------+--------------------+---------+----------+------------------+---------------+--------------------+\n",
            "only showing top 20 rows\n",
            "\n"
          ]
        }
      ]
    },
    {
      "cell_type": "code",
      "source": [
        "final_df = output.select(\"Independent Features\",\"Tax Per Product\")\n",
        "final_df.show()"
      ],
      "metadata": {
        "colab": {
          "base_uri": "https://localhost:8080/"
        },
        "id": "ro5ssI8xzmRj",
        "outputId": "34359d3c-2c24-4920-f0db-de603aa3ef9d"
      },
      "execution_count": null,
      "outputs": [
        {
          "output_type": "stream",
          "name": "stdout",
          "text": [
            "+--------------------+---------------+\n",
            "|Independent Features|Tax Per Product|\n",
            "+--------------------+---------------+\n",
            "|          [1.0,60.0]|            8.4|\n",
            "|          [5.0,35.0]|           2.45|\n",
            "|         [1.0,250.0]|           17.5|\n",
            "|          [2.0,15.0]|           1.05|\n",
            "|          [1.0,55.0]|           3.85|\n",
            "|          [2.0,75.0]|           5.25|\n",
            "|          [3.0,50.0]|           14.7|\n",
            "|          [2.0,90.0]|            6.3|\n",
            "|         [1.0,180.0]|           12.6|\n",
            "|           [1.0,3.0]|            1.4|\n",
            "|         [2.0,300.0]|           21.0|\n",
            "|          [4.0,50.0]|            3.5|\n",
            "|          [1.0,60.0]|            4.2|\n",
            "|          [5.0,40.0]|            2.8|\n",
            "|          [5.0,45.0]|           3.15|\n",
            "|          [1.0,80.0]|            5.6|\n",
            "|         [5.0,200.0]|           14.0|\n",
            "|          [5.0,65.0]|           4.55|\n",
            "|         [1.0,110.0]|            7.7|\n",
            "|          [2.0,95.0]|           6.65|\n",
            "+--------------------+---------------+\n",
            "only showing top 20 rows\n",
            "\n"
          ]
        }
      ]
    },
    {
      "cell_type": "code",
      "source": [
        "from pyspark.ml.regression import LinearRegression\n",
        "train_data,test_data=final_df.randomSplit([0.75,0.25])\n",
        "regressor=LinearRegression(featuresCol='Independent Features', labelCol='Tax Per Product')\n",
        "regressor=regressor.fit(train_data)"
      ],
      "metadata": {
        "id": "WwiSytsTz4oL"
      },
      "execution_count": null,
      "outputs": []
    },
    {
      "cell_type": "code",
      "source": [
        "regressor.coefficients"
      ],
      "metadata": {
        "colab": {
          "base_uri": "https://localhost:8080/"
        },
        "id": "ajbN3N2O0Dn5",
        "outputId": "80df578c-b2ae-4cbe-df28-fcce758da454"
      },
      "execution_count": null,
      "outputs": [
        {
          "output_type": "execute_result",
          "data": {
            "text/plain": [
              "DenseVector([-0.1861, 0.0654])"
            ]
          },
          "metadata": {},
          "execution_count": 10
        }
      ]
    },
    {
      "cell_type": "code",
      "source": [
        "regressor.intercept"
      ],
      "metadata": {
        "colab": {
          "base_uri": "https://localhost:8080/"
        },
        "id": "nqoR_ZR-0G4P",
        "outputId": "5042e4d3-b050-4749-fc76-9d47091174a3"
      },
      "execution_count": null,
      "outputs": [
        {
          "output_type": "execute_result",
          "data": {
            "text/plain": [
              "1.4302394058965116"
            ]
          },
          "metadata": {},
          "execution_count": 11
        }
      ]
    },
    {
      "cell_type": "code",
      "source": [
        "pred_results=regressor.evaluate(test_data)\n",
        "pred_results.predictions.show()"
      ],
      "metadata": {
        "colab": {
          "base_uri": "https://localhost:8080/"
        },
        "id": "FN2Kmfiy0JI3",
        "outputId": "88231c53-c382-4c4a-e13d-08aed57a59ba"
      },
      "execution_count": null,
      "outputs": [
        {
          "output_type": "stream",
          "name": "stdout",
          "text": [
            "+--------------------+---------------+------------------+\n",
            "|Independent Features|Tax Per Product|        prediction|\n",
            "+--------------------+---------------+------------------+\n",
            "|          [1.0,60.0]|            4.2|  5.16770047600594|\n",
            "|          [1.0,80.0]|            5.6| 6.475558464408023|\n",
            "|         [1.0,120.0]|            8.4| 9.091274441212187|\n",
            "|         [1.0,210.0]|           14.7|14.976635389021558|\n",
            "|         [1.0,250.0]|           17.5|17.592351365825724|\n",
            "|          [2.0,18.0]|           1.26| 2.235085805264748|\n",
            "|          [2.0,48.0]|           3.36| 4.196872787867872|\n",
            "|         [2.0,205.0]|          14.35| 14.46355799682422|\n",
            "|         [2.0,235.0]|          16.45|16.425344979427344|\n",
            "|          [3.0,63.0]|           4.41| 4.991653384072615|\n",
            "|          [4.0,46.0]|           3.22|3.6938611988340257|\n",
            "|          [4.0,85.0]|           5.95| 6.244184276218086|\n",
            "|          [5.0,22.0]|           1.54|1.9383187176547085|\n",
            "|          [5.0,40.0]|            2.8|3.1153909072165824|\n",
            "|          [5.0,58.0]|           4.06| 4.292463096778457|\n",
            "|         [5.0,105.0]|           7.35|  7.36592936952335|\n",
            "|         [5.0,110.0]|            7.7| 7.692893866623871|\n",
            "|         [5.0,200.0]|           14.0|13.578254814433242|\n",
            "|         [5.0,310.0]|           21.7|20.771473750644695|\n",
            "+--------------------+---------------+------------------+\n",
            "\n"
          ]
        }
      ]
    },
    {
      "cell_type": "code",
      "source": [
        "pred_results.meanAbsoluteError,pred_results.meanSquaredError,pred_results.r2,pred_results.rootMeanSquaredError"
      ],
      "metadata": {
        "colab": {
          "base_uri": "https://localhost:8080/"
        },
        "id": "21f26MRx0UYe",
        "outputId": "93461e4d-b389-43b7-d03a-4e507e2a135c"
      },
      "execution_count": null,
      "outputs": [
        {
          "output_type": "execute_result",
          "data": {
            "text/plain": [
              "(0.4485721192420498, 0.3122382537195496, 0.991280323354654, 0.5587828323414649)"
            ]
          },
          "metadata": {},
          "execution_count": 14
        }
      ]
    }
  ]
}