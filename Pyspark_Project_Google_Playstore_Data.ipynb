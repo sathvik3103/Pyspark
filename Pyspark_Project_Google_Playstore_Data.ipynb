{
  "nbformat": 4,
  "nbformat_minor": 0,
  "metadata": {
    "colab": {
      "provenance": [],
      "authorship_tag": "ABX9TyP4tM/ZU0aGAQuvh1AkiyTc",
      "include_colab_link": true
    },
    "kernelspec": {
      "name": "python3",
      "display_name": "Python 3"
    },
    "language_info": {
      "name": "python"
    }
  },
  "cells": [
    {
      "cell_type": "markdown",
      "metadata": {
        "id": "view-in-github",
        "colab_type": "text"
      },
      "source": [
        "<a href=\"https://colab.research.google.com/github/sathvik3103/Pyspark/blob/main/Pyspark_Project_Google_Playstore_Data.ipynb\" target=\"_parent\"><img src=\"https://colab.research.google.com/assets/colab-badge.svg\" alt=\"Open In Colab\"/></a>"
      ]
    },
    {
      "cell_type": "markdown",
      "source": [
        "dataset:\n",
        "https://drive.google.com/drive/folders/157Htdzp78CNSQWBH5HKmQ4Y2r9IIhnEl"
      ],
      "metadata": {
        "id": "Kk92_XkmVfmx"
      }
    },
    {
      "cell_type": "code",
      "execution_count": 1,
      "metadata": {
        "id": "DsHEx7LBVfF0",
        "colab": {
          "base_uri": "https://localhost:8080/"
        },
        "outputId": "ddf312de-b009-4ba6-edcc-9a92eb645dc8"
      },
      "outputs": [
        {
          "output_type": "stream",
          "name": "stdout",
          "text": [
            "Requirement already satisfied: pyspark in /usr/local/lib/python3.10/dist-packages (3.5.3)\n",
            "Requirement already satisfied: py4j==0.10.9.7 in /usr/local/lib/python3.10/dist-packages (from pyspark) (0.10.9.7)\n"
          ]
        }
      ],
      "source": [
        "! pip install pyspark\n",
        "import pyspark as pk\n",
        "from pyspark.sql import SparkSession\n",
        "spark=SparkSession.builder.appName('Pyspark Project - Google Playstore Data').getOrCreate()"
      ]
    },
    {
      "cell_type": "code",
      "source": [
        "from pyspark.sql import SparkSession\n",
        "from pyspark.sql.functions import *\n",
        "from pyspark.sql.types import *"
      ],
      "metadata": {
        "id": "LjkTpPHBXhV-"
      },
      "execution_count": 2,
      "outputs": []
    },
    {
      "cell_type": "code",
      "source": [
        "df=spark.read.csv('/content/Google Store Pyspark.csv',header=True,inferSchema=True)\n",
        "df.show()"
      ],
      "metadata": {
        "colab": {
          "base_uri": "https://localhost:8080/"
        },
        "id": "oF4z1mbEW9w3",
        "outputId": "86b4ede1-dd16-4af4-bd89-c5495566767d"
      },
      "execution_count": 3,
      "outputs": [
        {
          "output_type": "stream",
          "name": "stdout",
          "text": [
            "+--------------------+--------------+------+-------+----+-----------+----+-----+--------------+--------------------+------------------+------------------+------------+\n",
            "|                 App|      Category|Rating|Reviews|Size|   Installs|Type|Price|Content Rating|              Genres|      Last Updated|       Current Ver| Android Ver|\n",
            "+--------------------+--------------+------+-------+----+-----------+----+-----+--------------+--------------------+------------------+------------------+------------+\n",
            "|Photo Editor & Ca...|ART_AND_DESIGN|   4.1|    159| 19M|    10,000+|Free|    0|      Everyone|        Art & Design|   January 7, 2018|             1.0.0|4.0.3 and up|\n",
            "| Coloring book moana|ART_AND_DESIGN|   3.9|    967| 14M|   500,000+|Free|    0|      Everyone|Art & Design;Pret...|  January 15, 2018|             2.0.0|4.0.3 and up|\n",
            "|U Launcher Lite –...|ART_AND_DESIGN|   4.7|  87510|8.7M| 5,000,000+|Free|    0|      Everyone|        Art & Design|    August 1, 2018|             1.2.4|4.0.3 and up|\n",
            "|Sketch - Draw & P...|ART_AND_DESIGN|   4.5| 215644| 25M|50,000,000+|Free|    0|          Teen|        Art & Design|      June 8, 2018|Varies with device|  4.2 and up|\n",
            "|Pixel Draw - Numb...|ART_AND_DESIGN|   4.3|    967|2.8M|   100,000+|Free|    0|      Everyone|Art & Design;Crea...|     June 20, 2018|               1.1|  4.4 and up|\n",
            "|Paper flowers ins...|ART_AND_DESIGN|   4.4|    167|5.6M|    50,000+|Free|    0|      Everyone|        Art & Design|    March 26, 2017|               1.0|  2.3 and up|\n",
            "|Smoke Effect Phot...|ART_AND_DESIGN|   3.8|    178| 19M|    50,000+|Free|    0|      Everyone|        Art & Design|    April 26, 2018|               1.1|4.0.3 and up|\n",
            "|    Infinite Painter|ART_AND_DESIGN|   4.1|  36815| 29M| 1,000,000+|Free|    0|      Everyone|        Art & Design|     June 14, 2018|          6.1.61.1|  4.2 and up|\n",
            "|Garden Coloring Book|ART_AND_DESIGN|   4.4|  13791| 33M| 1,000,000+|Free|    0|      Everyone|        Art & Design|September 20, 2017|             2.9.2|  3.0 and up|\n",
            "|Kids Paint Free -...|ART_AND_DESIGN|   4.7|    121|3.1M|    10,000+|Free|    0|      Everyone|Art & Design;Crea...|      July 3, 2018|               2.8|4.0.3 and up|\n",
            "|Text on Photo - F...|ART_AND_DESIGN|   4.4|  13880| 28M| 1,000,000+|Free|    0|      Everyone|        Art & Design|  October 27, 2017|             1.0.4|  4.1 and up|\n",
            "|Name Art Photo Ed...|ART_AND_DESIGN|   4.4|   8788| 12M| 1,000,000+|Free|    0|      Everyone|        Art & Design|     July 31, 2018|            1.0.15|  4.0 and up|\n",
            "|Tattoo Name On My...|ART_AND_DESIGN|   4.2|  44829| 20M|10,000,000+|Free|    0|          Teen|        Art & Design|     April 2, 2018|               3.8|  4.1 and up|\n",
            "|Mandala Coloring ...|ART_AND_DESIGN|   4.6|   4326| 21M|   100,000+|Free|    0|      Everyone|        Art & Design|     June 26, 2018|             1.0.4|  4.4 and up|\n",
            "|3D Color Pixel by...|ART_AND_DESIGN|   4.4|   1518| 37M|   100,000+|Free|    0|      Everyone|        Art & Design|    August 3, 2018|             1.2.3|  2.3 and up|\n",
            "|Learn To Draw Kaw...|ART_AND_DESIGN|   3.2|     55|2.7M|     5,000+|Free|    0|      Everyone|        Art & Design|      June 6, 2018|               NaN|  4.2 and up|\n",
            "|Photo Designer - ...|ART_AND_DESIGN|   4.7|   3632|5.5M|   500,000+|Free|    0|      Everyone|        Art & Design|     July 31, 2018|               3.1|  4.1 and up|\n",
            "|350 Diy Room Deco...|ART_AND_DESIGN|   4.5|     27| 17M|    10,000+|Free|    0|      Everyone|        Art & Design|  November 7, 2017|               1.0|  2.3 and up|\n",
            "|FlipaClip - Carto...|ART_AND_DESIGN|   4.3| 194216| 39M| 5,000,000+|Free|    0|      Everyone|        Art & Design|    August 3, 2018|             2.2.5|4.0.3 and up|\n",
            "|        ibis Paint X|ART_AND_DESIGN|   4.6| 224399| 31M|10,000,000+|Free|    0|      Everyone|        Art & Design|     July 30, 2018|             5.5.4|  4.1 and up|\n",
            "+--------------------+--------------+------+-------+----+-----------+----+-----+--------------+--------------------+------------------+------------------+------------+\n",
            "only showing top 20 rows\n",
            "\n"
          ]
        }
      ]
    },
    {
      "cell_type": "code",
      "source": [
        "df.printSchema()"
      ],
      "metadata": {
        "colab": {
          "base_uri": "https://localhost:8080/"
        },
        "id": "llGN8Cf9XNoj",
        "outputId": "62f95582-e998-40e8-9f1f-7184bb691324"
      },
      "execution_count": 4,
      "outputs": [
        {
          "output_type": "stream",
          "name": "stdout",
          "text": [
            "root\n",
            " |-- App: string (nullable = true)\n",
            " |-- Category: string (nullable = true)\n",
            " |-- Rating: string (nullable = true)\n",
            " |-- Reviews: string (nullable = true)\n",
            " |-- Size: string (nullable = true)\n",
            " |-- Installs: string (nullable = true)\n",
            " |-- Type: string (nullable = true)\n",
            " |-- Price: string (nullable = true)\n",
            " |-- Content Rating: string (nullable = true)\n",
            " |-- Genres: string (nullable = true)\n",
            " |-- Last Updated: string (nullable = true)\n",
            " |-- Current Ver: string (nullable = true)\n",
            " |-- Android Ver: string (nullable = true)\n",
            "\n"
          ]
        }
      ]
    },
    {
      "cell_type": "code",
      "source": [
        "df = df.drop(\"Last Updated\",\"Current Ver\", \"Android Ver\")\n",
        "df.show()"
      ],
      "metadata": {
        "colab": {
          "base_uri": "https://localhost:8080/"
        },
        "id": "_RKUUJl8XViI",
        "outputId": "68d62c19-fec3-4290-eac1-2bb4d658f562"
      },
      "execution_count": 5,
      "outputs": [
        {
          "output_type": "stream",
          "name": "stdout",
          "text": [
            "+--------------------+--------------+------+-------+----+-----------+----+-----+--------------+--------------------+\n",
            "|                 App|      Category|Rating|Reviews|Size|   Installs|Type|Price|Content Rating|              Genres|\n",
            "+--------------------+--------------+------+-------+----+-----------+----+-----+--------------+--------------------+\n",
            "|Photo Editor & Ca...|ART_AND_DESIGN|   4.1|    159| 19M|    10,000+|Free|    0|      Everyone|        Art & Design|\n",
            "| Coloring book moana|ART_AND_DESIGN|   3.9|    967| 14M|   500,000+|Free|    0|      Everyone|Art & Design;Pret...|\n",
            "|U Launcher Lite –...|ART_AND_DESIGN|   4.7|  87510|8.7M| 5,000,000+|Free|    0|      Everyone|        Art & Design|\n",
            "|Sketch - Draw & P...|ART_AND_DESIGN|   4.5| 215644| 25M|50,000,000+|Free|    0|          Teen|        Art & Design|\n",
            "|Pixel Draw - Numb...|ART_AND_DESIGN|   4.3|    967|2.8M|   100,000+|Free|    0|      Everyone|Art & Design;Crea...|\n",
            "|Paper flowers ins...|ART_AND_DESIGN|   4.4|    167|5.6M|    50,000+|Free|    0|      Everyone|        Art & Design|\n",
            "|Smoke Effect Phot...|ART_AND_DESIGN|   3.8|    178| 19M|    50,000+|Free|    0|      Everyone|        Art & Design|\n",
            "|    Infinite Painter|ART_AND_DESIGN|   4.1|  36815| 29M| 1,000,000+|Free|    0|      Everyone|        Art & Design|\n",
            "|Garden Coloring Book|ART_AND_DESIGN|   4.4|  13791| 33M| 1,000,000+|Free|    0|      Everyone|        Art & Design|\n",
            "|Kids Paint Free -...|ART_AND_DESIGN|   4.7|    121|3.1M|    10,000+|Free|    0|      Everyone|Art & Design;Crea...|\n",
            "|Text on Photo - F...|ART_AND_DESIGN|   4.4|  13880| 28M| 1,000,000+|Free|    0|      Everyone|        Art & Design|\n",
            "|Name Art Photo Ed...|ART_AND_DESIGN|   4.4|   8788| 12M| 1,000,000+|Free|    0|      Everyone|        Art & Design|\n",
            "|Tattoo Name On My...|ART_AND_DESIGN|   4.2|  44829| 20M|10,000,000+|Free|    0|          Teen|        Art & Design|\n",
            "|Mandala Coloring ...|ART_AND_DESIGN|   4.6|   4326| 21M|   100,000+|Free|    0|      Everyone|        Art & Design|\n",
            "|3D Color Pixel by...|ART_AND_DESIGN|   4.4|   1518| 37M|   100,000+|Free|    0|      Everyone|        Art & Design|\n",
            "|Learn To Draw Kaw...|ART_AND_DESIGN|   3.2|     55|2.7M|     5,000+|Free|    0|      Everyone|        Art & Design|\n",
            "|Photo Designer - ...|ART_AND_DESIGN|   4.7|   3632|5.5M|   500,000+|Free|    0|      Everyone|        Art & Design|\n",
            "|350 Diy Room Deco...|ART_AND_DESIGN|   4.5|     27| 17M|    10,000+|Free|    0|      Everyone|        Art & Design|\n",
            "|FlipaClip - Carto...|ART_AND_DESIGN|   4.3| 194216| 39M| 5,000,000+|Free|    0|      Everyone|        Art & Design|\n",
            "|        ibis Paint X|ART_AND_DESIGN|   4.6| 224399| 31M|10,000,000+|Free|    0|      Everyone|        Art & Design|\n",
            "+--------------------+--------------+------+-------+----+-----------+----+-----+--------------+--------------------+\n",
            "only showing top 20 rows\n",
            "\n"
          ]
        }
      ]
    },
    {
      "cell_type": "code",
      "source": [
        "df = df.dropna()\n",
        "df.show()"
      ],
      "metadata": {
        "colab": {
          "base_uri": "https://localhost:8080/"
        },
        "id": "M3-lIASdamCR",
        "outputId": "dbef9e9c-6521-45e4-dee4-9a8d64a33834"
      },
      "execution_count": 6,
      "outputs": [
        {
          "output_type": "stream",
          "name": "stdout",
          "text": [
            "+--------------------+--------------+------+-------+----+-----------+----+-----+--------------+--------------------+\n",
            "|                 App|      Category|Rating|Reviews|Size|   Installs|Type|Price|Content Rating|              Genres|\n",
            "+--------------------+--------------+------+-------+----+-----------+----+-----+--------------+--------------------+\n",
            "|Photo Editor & Ca...|ART_AND_DESIGN|   4.1|    159| 19M|    10,000+|Free|    0|      Everyone|        Art & Design|\n",
            "| Coloring book moana|ART_AND_DESIGN|   3.9|    967| 14M|   500,000+|Free|    0|      Everyone|Art & Design;Pret...|\n",
            "|U Launcher Lite –...|ART_AND_DESIGN|   4.7|  87510|8.7M| 5,000,000+|Free|    0|      Everyone|        Art & Design|\n",
            "|Sketch - Draw & P...|ART_AND_DESIGN|   4.5| 215644| 25M|50,000,000+|Free|    0|          Teen|        Art & Design|\n",
            "|Pixel Draw - Numb...|ART_AND_DESIGN|   4.3|    967|2.8M|   100,000+|Free|    0|      Everyone|Art & Design;Crea...|\n",
            "|Paper flowers ins...|ART_AND_DESIGN|   4.4|    167|5.6M|    50,000+|Free|    0|      Everyone|        Art & Design|\n",
            "|Smoke Effect Phot...|ART_AND_DESIGN|   3.8|    178| 19M|    50,000+|Free|    0|      Everyone|        Art & Design|\n",
            "|    Infinite Painter|ART_AND_DESIGN|   4.1|  36815| 29M| 1,000,000+|Free|    0|      Everyone|        Art & Design|\n",
            "|Garden Coloring Book|ART_AND_DESIGN|   4.4|  13791| 33M| 1,000,000+|Free|    0|      Everyone|        Art & Design|\n",
            "|Kids Paint Free -...|ART_AND_DESIGN|   4.7|    121|3.1M|    10,000+|Free|    0|      Everyone|Art & Design;Crea...|\n",
            "|Text on Photo - F...|ART_AND_DESIGN|   4.4|  13880| 28M| 1,000,000+|Free|    0|      Everyone|        Art & Design|\n",
            "|Name Art Photo Ed...|ART_AND_DESIGN|   4.4|   8788| 12M| 1,000,000+|Free|    0|      Everyone|        Art & Design|\n",
            "|Tattoo Name On My...|ART_AND_DESIGN|   4.2|  44829| 20M|10,000,000+|Free|    0|          Teen|        Art & Design|\n",
            "|Mandala Coloring ...|ART_AND_DESIGN|   4.6|   4326| 21M|   100,000+|Free|    0|      Everyone|        Art & Design|\n",
            "|3D Color Pixel by...|ART_AND_DESIGN|   4.4|   1518| 37M|   100,000+|Free|    0|      Everyone|        Art & Design|\n",
            "|Learn To Draw Kaw...|ART_AND_DESIGN|   3.2|     55|2.7M|     5,000+|Free|    0|      Everyone|        Art & Design|\n",
            "|Photo Designer - ...|ART_AND_DESIGN|   4.7|   3632|5.5M|   500,000+|Free|    0|      Everyone|        Art & Design|\n",
            "|350 Diy Room Deco...|ART_AND_DESIGN|   4.5|     27| 17M|    10,000+|Free|    0|      Everyone|        Art & Design|\n",
            "|FlipaClip - Carto...|ART_AND_DESIGN|   4.3| 194216| 39M| 5,000,000+|Free|    0|      Everyone|        Art & Design|\n",
            "|        ibis Paint X|ART_AND_DESIGN|   4.6| 224399| 31M|10,000,000+|Free|    0|      Everyone|        Art & Design|\n",
            "+--------------------+--------------+------+-------+----+-----------+----+-----+--------------+--------------------+\n",
            "only showing top 20 rows\n",
            "\n"
          ]
        }
      ]
    },
    {
      "cell_type": "code",
      "source": [
        "df = df.withColumn(\"Rating\",df[\"Rating\"].cast('float')) \\\n",
        "       .withColumn(\"Reviews\",df[\"Reviews\"].cast('int')) \\\n",
        "       .withColumn(\"Price\",df[\"Price\"].cast('float'))\n",
        "df.printSchema()"
      ],
      "metadata": {
        "colab": {
          "base_uri": "https://localhost:8080/"
        },
        "id": "JUMKFbWXbFfC",
        "outputId": "b57737c7-500a-4149-ddcf-0689fc21bf4e"
      },
      "execution_count": 7,
      "outputs": [
        {
          "output_type": "stream",
          "name": "stdout",
          "text": [
            "root\n",
            " |-- App: string (nullable = true)\n",
            " |-- Category: string (nullable = true)\n",
            " |-- Rating: float (nullable = true)\n",
            " |-- Reviews: integer (nullable = true)\n",
            " |-- Size: string (nullable = true)\n",
            " |-- Installs: string (nullable = true)\n",
            " |-- Type: string (nullable = true)\n",
            " |-- Price: float (nullable = true)\n",
            " |-- Content Rating: string (nullable = true)\n",
            " |-- Genres: string (nullable = true)\n",
            "\n"
          ]
        }
      ]
    },
    {
      "cell_type": "code",
      "source": [
        "from pyspark.sql.functions import regexp_replace, col\n",
        "df = df.withColumn(\"Price\", regexp_replace(col(\"Price\"), \"[$]\", \"\"))\\\n",
        "       .withColumn(\"Price\",col(\"Price\").cast(IntegerType()))\n",
        "df.show()"
      ],
      "metadata": {
        "colab": {
          "base_uri": "https://localhost:8080/"
        },
        "id": "OZHeVMQqffJS",
        "outputId": "3f5e20c4-1d36-48d6-d7bf-d836d5025241"
      },
      "execution_count": 8,
      "outputs": [
        {
          "output_type": "stream",
          "name": "stdout",
          "text": [
            "+--------------------+--------------+------+-------+----+-----------+----+-----+--------------+--------------------+\n",
            "|                 App|      Category|Rating|Reviews|Size|   Installs|Type|Price|Content Rating|              Genres|\n",
            "+--------------------+--------------+------+-------+----+-----------+----+-----+--------------+--------------------+\n",
            "|Photo Editor & Ca...|ART_AND_DESIGN|   4.1|    159| 19M|    10,000+|Free|    0|      Everyone|        Art & Design|\n",
            "| Coloring book moana|ART_AND_DESIGN|   3.9|    967| 14M|   500,000+|Free|    0|      Everyone|Art & Design;Pret...|\n",
            "|U Launcher Lite –...|ART_AND_DESIGN|   4.7|  87510|8.7M| 5,000,000+|Free|    0|      Everyone|        Art & Design|\n",
            "|Sketch - Draw & P...|ART_AND_DESIGN|   4.5| 215644| 25M|50,000,000+|Free|    0|          Teen|        Art & Design|\n",
            "|Pixel Draw - Numb...|ART_AND_DESIGN|   4.3|    967|2.8M|   100,000+|Free|    0|      Everyone|Art & Design;Crea...|\n",
            "|Paper flowers ins...|ART_AND_DESIGN|   4.4|    167|5.6M|    50,000+|Free|    0|      Everyone|        Art & Design|\n",
            "|Smoke Effect Phot...|ART_AND_DESIGN|   3.8|    178| 19M|    50,000+|Free|    0|      Everyone|        Art & Design|\n",
            "|    Infinite Painter|ART_AND_DESIGN|   4.1|  36815| 29M| 1,000,000+|Free|    0|      Everyone|        Art & Design|\n",
            "|Garden Coloring Book|ART_AND_DESIGN|   4.4|  13791| 33M| 1,000,000+|Free|    0|      Everyone|        Art & Design|\n",
            "|Kids Paint Free -...|ART_AND_DESIGN|   4.7|    121|3.1M|    10,000+|Free|    0|      Everyone|Art & Design;Crea...|\n",
            "|Text on Photo - F...|ART_AND_DESIGN|   4.4|  13880| 28M| 1,000,000+|Free|    0|      Everyone|        Art & Design|\n",
            "|Name Art Photo Ed...|ART_AND_DESIGN|   4.4|   8788| 12M| 1,000,000+|Free|    0|      Everyone|        Art & Design|\n",
            "|Tattoo Name On My...|ART_AND_DESIGN|   4.2|  44829| 20M|10,000,000+|Free|    0|          Teen|        Art & Design|\n",
            "|Mandala Coloring ...|ART_AND_DESIGN|   4.6|   4326| 21M|   100,000+|Free|    0|      Everyone|        Art & Design|\n",
            "|3D Color Pixel by...|ART_AND_DESIGN|   4.4|   1518| 37M|   100,000+|Free|    0|      Everyone|        Art & Design|\n",
            "|Learn To Draw Kaw...|ART_AND_DESIGN|   3.2|     55|2.7M|     5,000+|Free|    0|      Everyone|        Art & Design|\n",
            "|Photo Designer - ...|ART_AND_DESIGN|   4.7|   3632|5.5M|   500,000+|Free|    0|      Everyone|        Art & Design|\n",
            "|350 Diy Room Deco...|ART_AND_DESIGN|   4.5|     27| 17M|    10,000+|Free|    0|      Everyone|        Art & Design|\n",
            "|FlipaClip - Carto...|ART_AND_DESIGN|   4.3| 194216| 39M| 5,000,000+|Free|    0|      Everyone|        Art & Design|\n",
            "|        ibis Paint X|ART_AND_DESIGN|   4.6| 224399| 31M|10,000,000+|Free|    0|      Everyone|        Art & Design|\n",
            "+--------------------+--------------+------+-------+----+-----------+----+-----+--------------+--------------------+\n",
            "only showing top 20 rows\n",
            "\n"
          ]
        }
      ]
    },
    {
      "cell_type": "code",
      "source": [
        "df = df.withColumn(\"Installs\", regexp_replace(col(\"Installs\"), \"[^0-9]\", \"\"))\\\n",
        "       .withColumn(\"Installs\",col(\"Installs\").cast(IntegerType()))\n",
        "df.show()"
      ],
      "metadata": {
        "colab": {
          "base_uri": "https://localhost:8080/"
        },
        "id": "X10-XvL1gdpB",
        "outputId": "d6126046-664f-4733-fe30-5af6dca2f8cc"
      },
      "execution_count": 9,
      "outputs": [
        {
          "output_type": "stream",
          "name": "stdout",
          "text": [
            "+--------------------+--------------+------+-------+----+--------+----+-----+--------------+--------------------+\n",
            "|                 App|      Category|Rating|Reviews|Size|Installs|Type|Price|Content Rating|              Genres|\n",
            "+--------------------+--------------+------+-------+----+--------+----+-----+--------------+--------------------+\n",
            "|Photo Editor & Ca...|ART_AND_DESIGN|   4.1|    159| 19M|   10000|Free|    0|      Everyone|        Art & Design|\n",
            "| Coloring book moana|ART_AND_DESIGN|   3.9|    967| 14M|  500000|Free|    0|      Everyone|Art & Design;Pret...|\n",
            "|U Launcher Lite –...|ART_AND_DESIGN|   4.7|  87510|8.7M| 5000000|Free|    0|      Everyone|        Art & Design|\n",
            "|Sketch - Draw & P...|ART_AND_DESIGN|   4.5| 215644| 25M|50000000|Free|    0|          Teen|        Art & Design|\n",
            "|Pixel Draw - Numb...|ART_AND_DESIGN|   4.3|    967|2.8M|  100000|Free|    0|      Everyone|Art & Design;Crea...|\n",
            "|Paper flowers ins...|ART_AND_DESIGN|   4.4|    167|5.6M|   50000|Free|    0|      Everyone|        Art & Design|\n",
            "|Smoke Effect Phot...|ART_AND_DESIGN|   3.8|    178| 19M|   50000|Free|    0|      Everyone|        Art & Design|\n",
            "|    Infinite Painter|ART_AND_DESIGN|   4.1|  36815| 29M| 1000000|Free|    0|      Everyone|        Art & Design|\n",
            "|Garden Coloring Book|ART_AND_DESIGN|   4.4|  13791| 33M| 1000000|Free|    0|      Everyone|        Art & Design|\n",
            "|Kids Paint Free -...|ART_AND_DESIGN|   4.7|    121|3.1M|   10000|Free|    0|      Everyone|Art & Design;Crea...|\n",
            "|Text on Photo - F...|ART_AND_DESIGN|   4.4|  13880| 28M| 1000000|Free|    0|      Everyone|        Art & Design|\n",
            "|Name Art Photo Ed...|ART_AND_DESIGN|   4.4|   8788| 12M| 1000000|Free|    0|      Everyone|        Art & Design|\n",
            "|Tattoo Name On My...|ART_AND_DESIGN|   4.2|  44829| 20M|10000000|Free|    0|          Teen|        Art & Design|\n",
            "|Mandala Coloring ...|ART_AND_DESIGN|   4.6|   4326| 21M|  100000|Free|    0|      Everyone|        Art & Design|\n",
            "|3D Color Pixel by...|ART_AND_DESIGN|   4.4|   1518| 37M|  100000|Free|    0|      Everyone|        Art & Design|\n",
            "|Learn To Draw Kaw...|ART_AND_DESIGN|   3.2|     55|2.7M|    5000|Free|    0|      Everyone|        Art & Design|\n",
            "|Photo Designer - ...|ART_AND_DESIGN|   4.7|   3632|5.5M|  500000|Free|    0|      Everyone|        Art & Design|\n",
            "|350 Diy Room Deco...|ART_AND_DESIGN|   4.5|     27| 17M|   10000|Free|    0|      Everyone|        Art & Design|\n",
            "|FlipaClip - Carto...|ART_AND_DESIGN|   4.3| 194216| 39M| 5000000|Free|    0|      Everyone|        Art & Design|\n",
            "|        ibis Paint X|ART_AND_DESIGN|   4.6| 224399| 31M|10000000|Free|    0|      Everyone|        Art & Design|\n",
            "+--------------------+--------------+------+-------+----+--------+----+-----+--------------+--------------------+\n",
            "only showing top 20 rows\n",
            "\n"
          ]
        }
      ]
    },
    {
      "cell_type": "code",
      "source": [
        "df.printSchema()"
      ],
      "metadata": {
        "colab": {
          "base_uri": "https://localhost:8080/"
        },
        "id": "qxk9ZSBzgfQH",
        "outputId": "d626b1d4-5dd3-4c50-9162-e7bc57792550"
      },
      "execution_count": 10,
      "outputs": [
        {
          "output_type": "stream",
          "name": "stdout",
          "text": [
            "root\n",
            " |-- App: string (nullable = true)\n",
            " |-- Category: string (nullable = true)\n",
            " |-- Rating: float (nullable = true)\n",
            " |-- Reviews: integer (nullable = true)\n",
            " |-- Size: string (nullable = true)\n",
            " |-- Installs: integer (nullable = true)\n",
            " |-- Type: string (nullable = true)\n",
            " |-- Price: integer (nullable = true)\n",
            " |-- Content Rating: string (nullable = true)\n",
            " |-- Genres: string (nullable = true)\n",
            "\n"
          ]
        }
      ]
    },
    {
      "cell_type": "code",
      "source": [
        "df.createOrReplaceTempView(\"google_playstore\")"
      ],
      "metadata": {
        "id": "3nQew9cQhh4i"
      },
      "execution_count": 23,
      "outputs": []
    },
    {
      "cell_type": "code",
      "source": [
        "spark.sql(\"SELECT * FROM google_playstore\").show()"
      ],
      "metadata": {
        "colab": {
          "base_uri": "https://localhost:8080/"
        },
        "id": "aOIWQO7KiyWp",
        "outputId": "f330c842-5970-4bec-fe4d-2051a180a7c7"
      },
      "execution_count": 26,
      "outputs": [
        {
          "output_type": "stream",
          "name": "stdout",
          "text": [
            "+--------------------+--------------+------+-------+----+--------+----+-----+--------------+--------------------+\n",
            "|                 App|      Category|Rating|Reviews|Size|Installs|Type|Price|Content Rating|              Genres|\n",
            "+--------------------+--------------+------+-------+----+--------+----+-----+--------------+--------------------+\n",
            "|Photo Editor & Ca...|ART_AND_DESIGN|   4.1|    159| 19M|   10000|Free|    0|      Everyone|        Art & Design|\n",
            "| Coloring book moana|ART_AND_DESIGN|   3.9|    967| 14M|  500000|Free|    0|      Everyone|Art & Design;Pret...|\n",
            "|U Launcher Lite –...|ART_AND_DESIGN|   4.7|  87510|8.7M| 5000000|Free|    0|      Everyone|        Art & Design|\n",
            "|Sketch - Draw & P...|ART_AND_DESIGN|   4.5| 215644| 25M|50000000|Free|    0|          Teen|        Art & Design|\n",
            "|Pixel Draw - Numb...|ART_AND_DESIGN|   4.3|    967|2.8M|  100000|Free|    0|      Everyone|Art & Design;Crea...|\n",
            "|Paper flowers ins...|ART_AND_DESIGN|   4.4|    167|5.6M|   50000|Free|    0|      Everyone|        Art & Design|\n",
            "|Smoke Effect Phot...|ART_AND_DESIGN|   3.8|    178| 19M|   50000|Free|    0|      Everyone|        Art & Design|\n",
            "|    Infinite Painter|ART_AND_DESIGN|   4.1|  36815| 29M| 1000000|Free|    0|      Everyone|        Art & Design|\n",
            "|Garden Coloring Book|ART_AND_DESIGN|   4.4|  13791| 33M| 1000000|Free|    0|      Everyone|        Art & Design|\n",
            "|Kids Paint Free -...|ART_AND_DESIGN|   4.7|    121|3.1M|   10000|Free|    0|      Everyone|Art & Design;Crea...|\n",
            "|Text on Photo - F...|ART_AND_DESIGN|   4.4|  13880| 28M| 1000000|Free|    0|      Everyone|        Art & Design|\n",
            "|Name Art Photo Ed...|ART_AND_DESIGN|   4.4|   8788| 12M| 1000000|Free|    0|      Everyone|        Art & Design|\n",
            "|Tattoo Name On My...|ART_AND_DESIGN|   4.2|  44829| 20M|10000000|Free|    0|          Teen|        Art & Design|\n",
            "|Mandala Coloring ...|ART_AND_DESIGN|   4.6|   4326| 21M|  100000|Free|    0|      Everyone|        Art & Design|\n",
            "|3D Color Pixel by...|ART_AND_DESIGN|   4.4|   1518| 37M|  100000|Free|    0|      Everyone|        Art & Design|\n",
            "|Learn To Draw Kaw...|ART_AND_DESIGN|   3.2|     55|2.7M|    5000|Free|    0|      Everyone|        Art & Design|\n",
            "|Photo Designer - ...|ART_AND_DESIGN|   4.7|   3632|5.5M|  500000|Free|    0|      Everyone|        Art & Design|\n",
            "|350 Diy Room Deco...|ART_AND_DESIGN|   4.5|     27| 17M|   10000|Free|    0|      Everyone|        Art & Design|\n",
            "|FlipaClip - Carto...|ART_AND_DESIGN|   4.3| 194216| 39M| 5000000|Free|    0|      Everyone|        Art & Design|\n",
            "|        ibis Paint X|ART_AND_DESIGN|   4.6| 224399| 31M|10000000|Free|    0|      Everyone|        Art & Design|\n",
            "+--------------------+--------------+------+-------+----+--------+----+-----+--------------+--------------------+\n",
            "only showing top 20 rows\n",
            "\n"
          ]
        }
      ]
    },
    {
      "cell_type": "code",
      "source": [
        "#top applications by total number of reviews\n",
        "spark.sql(\"SELECT App, SUM(Reviews) AS TotalReviews FROM google_playstore GROUP BY App ORDER BY TotalReviews DESC\").show()"
      ],
      "metadata": {
        "colab": {
          "base_uri": "https://localhost:8080/"
        },
        "id": "lOLonzjuka_7",
        "outputId": "ed081d6c-35bf-4965-a51f-ca32f0981f26"
      },
      "execution_count": 30,
      "outputs": [
        {
          "output_type": "stream",
          "name": "stdout",
          "text": [
            "+--------------------+------------+\n",
            "|                 App|TotalReviews|\n",
            "+--------------------+------------+\n",
            "|           Instagram|   266241989|\n",
            "|  WhatsApp Messenger|   207348304|\n",
            "|      Clash of Clans|   179558781|\n",
            "|Messenger – Text ...|   169932272|\n",
            "|      Subway Surfers|   166331958|\n",
            "|    Candy Crush Saga|   156993136|\n",
            "|            Facebook|   156286514|\n",
            "|         8 Ball Pool|    99386198|\n",
            "|        Clash Royale|    92530298|\n",
            "|            Snapchat|    68045010|\n",
            "|     Viber Messenger|    56675481|\n",
            "|UC Browser - Fast...|    53140694|\n",
            "|             YouTube|    51278853|\n",
            "|        Temple Run 2|    48710930|\n",
            "|Sniper 3D Gun Sho...|    46022233|\n",
            "|      My Talking Tom|    44668928|\n",
            "|Duolingo: Learn L...|    44047832|\n",
            "|       Google Photos|    43423827|\n",
            "|Clean Master- Spa...|    42916526|\n",
            "|                 Pou|    41939801|\n",
            "+--------------------+------------+\n",
            "only showing top 20 rows\n",
            "\n"
          ]
        }
      ]
    },
    {
      "cell_type": "code",
      "source": [
        "#top applications by total number of installs\n",
        "spark.sql(\"SELECT App, SUM(Installs) AS TotalInstalls FROM google_playstore GROUP BY App ORDER BY TotalInstalls DESC\").show()"
      ],
      "metadata": {
        "colab": {
          "base_uri": "https://localhost:8080/"
        },
        "id": "M_W64NLZkjWl",
        "outputId": "52d7cb86-3cb9-481b-cafe-587b84ef333f"
      },
      "execution_count": 31,
      "outputs": [
        {
          "output_type": "stream",
          "name": "stdout",
          "text": [
            "+--------------------+-------------+\n",
            "|                 App|TotalInstalls|\n",
            "+--------------------+-------------+\n",
            "|      Subway Surfers|   6000000000|\n",
            "|            Hangouts|   4000000000|\n",
            "|           Instagram|   4000000000|\n",
            "|        Google Drive|   4000000000|\n",
            "|         Google News|   4000000000|\n",
            "|       Google Photos|   4000000000|\n",
            "|    Candy Crush Saga|   3500000000|\n",
            "|  WhatsApp Messenger|   3000000000|\n",
            "|Messenger – Text ...|   3000000000|\n",
            "|Google Chrome: Fa...|   3000000000|\n",
            "|               Gmail|   3000000000|\n",
            "|Maps - Navigate &...|   3000000000|\n",
            "|Skype - free IM &...|   3000000000|\n",
            "|        Temple Run 2|   3000000000|\n",
            "|     Viber Messenger|   2500000000|\n",
            "|             YouTube|   2000000000|\n",
            "|   Google Play Games|   2000000000|\n",
            "|                 Pou|   2000000000|\n",
            "|  Google Street View|   2000000000|\n",
            "|              Google|   2000000000|\n",
            "+--------------------+-------------+\n",
            "only showing top 20 rows\n",
            "\n"
          ]
        }
      ]
    },
    {
      "cell_type": "code",
      "source": [
        "#top applications by total number of installs and group by type\n",
        "spark.sql(\"SELECT App, SUM(Installs) AS TotalInstalls, Type FROM google_playstore GROUP BY App, Type ORDER BY TotalInstalls DESC\").show()"
      ],
      "metadata": {
        "colab": {
          "base_uri": "https://localhost:8080/"
        },
        "id": "wqjTBw25mhll",
        "outputId": "52b9f55f-d1f2-4ac5-bbfa-ca6a4a898780"
      },
      "execution_count": 41,
      "outputs": [
        {
          "output_type": "stream",
          "name": "stdout",
          "text": [
            "+--------------------+-------------+----+\n",
            "|                 App|TotalInstalls|Type|\n",
            "+--------------------+-------------+----+\n",
            "|      Subway Surfers|   6000000000|Free|\n",
            "|           Instagram|   4000000000|Free|\n",
            "|        Google Drive|   4000000000|Free|\n",
            "|            Hangouts|   4000000000|Free|\n",
            "|       Google Photos|   4000000000|Free|\n",
            "|         Google News|   4000000000|Free|\n",
            "|    Candy Crush Saga|   3500000000|Free|\n",
            "|  WhatsApp Messenger|   3000000000|Free|\n",
            "|               Gmail|   3000000000|Free|\n",
            "|        Temple Run 2|   3000000000|Free|\n",
            "|Skype - free IM &...|   3000000000|Free|\n",
            "|Google Chrome: Fa...|   3000000000|Free|\n",
            "|Messenger – Text ...|   3000000000|Free|\n",
            "|Maps - Navigate &...|   3000000000|Free|\n",
            "|     Viber Messenger|   2500000000|Free|\n",
            "|   Google Play Games|   2000000000|Free|\n",
            "|            Facebook|   2000000000|Free|\n",
            "|            Snapchat|   2000000000|Free|\n",
            "|imo free video ca...|   2000000000|Free|\n",
            "|  Google Street View|   2000000000|Free|\n",
            "+--------------------+-------------+----+\n",
            "only showing top 20 rows\n",
            "\n"
          ]
        }
      ]
    },
    {
      "cell_type": "code",
      "source": [
        "#top applications by total number of installs and group by free type\n",
        "spark.sql(\"SELECT App, SUM(Installs) AS TotalInstalls, Type FROM google_playstore WHERE Type = 'Free' GROUP BY App, Type ORDER BY TotalInstalls DESC\").show()"
      ],
      "metadata": {
        "colab": {
          "base_uri": "https://localhost:8080/"
        },
        "id": "No1u3d5fk_tE",
        "outputId": "115105a7-2b18-4fcb-83f9-a0ab0c98ba18"
      },
      "execution_count": 40,
      "outputs": [
        {
          "output_type": "stream",
          "name": "stdout",
          "text": [
            "+--------------------+-------------+----+\n",
            "|                 App|TotalInstalls|Type|\n",
            "+--------------------+-------------+----+\n",
            "|      Subway Surfers|   6000000000|Free|\n",
            "|           Instagram|   4000000000|Free|\n",
            "|        Google Drive|   4000000000|Free|\n",
            "|            Hangouts|   4000000000|Free|\n",
            "|       Google Photos|   4000000000|Free|\n",
            "|         Google News|   4000000000|Free|\n",
            "|    Candy Crush Saga|   3500000000|Free|\n",
            "|  WhatsApp Messenger|   3000000000|Free|\n",
            "|               Gmail|   3000000000|Free|\n",
            "|        Temple Run 2|   3000000000|Free|\n",
            "|Skype - free IM &...|   3000000000|Free|\n",
            "|Google Chrome: Fa...|   3000000000|Free|\n",
            "|Messenger – Text ...|   3000000000|Free|\n",
            "|Maps - Navigate &...|   3000000000|Free|\n",
            "|     Viber Messenger|   2500000000|Free|\n",
            "|   Google Play Games|   2000000000|Free|\n",
            "|            Facebook|   2000000000|Free|\n",
            "|            Snapchat|   2000000000|Free|\n",
            "|imo free video ca...|   2000000000|Free|\n",
            "|  Google Street View|   2000000000|Free|\n",
            "+--------------------+-------------+----+\n",
            "only showing top 20 rows\n",
            "\n"
          ]
        }
      ]
    },
    {
      "cell_type": "code",
      "source": [
        "#top applications by total number of installs and group by type\n",
        "spark.sql(\"SELECT App, SUM(Installs) AS TotalInstalls, Type FROM google_playstore WHERE Type = 'Paid' GROUP BY App, Type ORDER BY TotalInstalls DESC\").show()"
      ],
      "metadata": {
        "colab": {
          "base_uri": "https://localhost:8080/"
        },
        "id": "lKv1mM-xlazf",
        "outputId": "eeb3e517-41e7-4c41-a1bc-90b711907db8"
      },
      "execution_count": 39,
      "outputs": [
        {
          "output_type": "stream",
          "name": "stdout",
          "text": [
            "+--------------------+-------------+----+\n",
            "|                 App|TotalInstalls|Type|\n",
            "+--------------------+-------------+----+\n",
            "|           Minecraft|     20000000|Paid|\n",
            "|       Hitman Sniper|     10000000|Paid|\n",
            "| Facetune - For Free|      3000000|Paid|\n",
            "|Beautiful Widgets...|      2000000|Paid|\n",
            "|          HD Widgets|      2000000|Paid|\n",
            "|Card Wars - Adven...|      1000000|Paid|\n",
            "|League of Stickma...|      1000000|Paid|\n",
            "| DraStic DS Emulator|      1000000|Paid|\n",
            "|              Tasker|      1000000|Paid|\n",
            "|Stickman Legends:...|      1000000|Paid|\n",
            "|   Where's My Water?|      1000000|Paid|\n",
            "|Infinity Dungeon VIP|      1000000|Paid|\n",
            "|             Threema|      1000000|Paid|\n",
            "|Zombie Avengers:(...|      1000000|Paid|\n",
            "|   Cut the Rope GOLD|      1000000|Paid|\n",
            "|Sleep as Android ...|      1000000|Paid|\n",
            "|Five Nights at Fr...|      1000000|Paid|\n",
            "|Grand Theft Auto:...|      1000000|Paid|\n",
            "|Lost Journey (Dre...|      1000000|Paid|\n",
            "|         Bloons TD 5|      1000000|Paid|\n",
            "+--------------------+-------------+----+\n",
            "only showing top 20 rows\n",
            "\n"
          ]
        }
      ]
    },
    {
      "cell_type": "code",
      "source": [
        "#top applications by total number of installs and group by category\n",
        "spark.sql(\"SELECT Category, SUM(Installs) AS TotalInstalls FROM google_playstore GROUP BY Category ORDER BY TotalInstalls DESC\").show()"
      ],
      "metadata": {
        "colab": {
          "base_uri": "https://localhost:8080/"
        },
        "id": "DNuoNMDDmtMv",
        "outputId": "346b7dd9-3981-4987-b472-dd1454fbbc40"
      },
      "execution_count": 46,
      "outputs": [
        {
          "output_type": "stream",
          "name": "stdout",
          "text": [
            "+-------------------+-------------+\n",
            "|           Category|TotalInstalls|\n",
            "+-------------------+-------------+\n",
            "|               GAME|  35086024415|\n",
            "|      COMMUNICATION|  32647276251|\n",
            "|       PRODUCTIVITY|  14176091369|\n",
            "|             SOCIAL|  14069867902|\n",
            "|              TOOLS|  11452771915|\n",
            "|             FAMILY|  10258263505|\n",
            "|        PHOTOGRAPHY|  10088247655|\n",
            "| NEWS_AND_MAGAZINES|   7496317760|\n",
            "|   TRAVEL_AND_LOCAL|   6868887146|\n",
            "|      VIDEO_PLAYERS|   6222002720|\n",
            "|           SHOPPING|   3247848785|\n",
            "|      ENTERTAINMENT|   2869160000|\n",
            "|    PERSONALIZATION|   2325494782|\n",
            "|BOOKS_AND_REFERENCE|   1921469576|\n",
            "|             SPORTS|   1751174498|\n",
            "| HEALTH_AND_FITNESS|   1582072512|\n",
            "|           BUSINESS|   1001914865|\n",
            "|            FINANCE|    876648734|\n",
            "|          EDUCATION|    871452000|\n",
            "|MAPS_AND_NAVIGATION|    719281890|\n",
            "+-------------------+-------------+\n",
            "only showing top 20 rows\n",
            "\n"
          ]
        }
      ]
    }
  ]
}